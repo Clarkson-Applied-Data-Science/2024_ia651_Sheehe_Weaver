{
 "cells": [
  {
   "cell_type": "markdown",
   "metadata": {},
   "source": [
    "## IA 651 Final Project Code Part 3\n",
    "\n",
    "Kelsey Sheehe & Sarah Weaver\n",
    "\n",
    "Professor Michael Gilbert\n",
    "\n",
    "Summer 2024"
   ]
  },
  {
   "cell_type": "markdown",
   "metadata": {},
   "source": [
    "## Testing Model Predictions using Linear Regression Model"
   ]
  },
  {
   "cell_type": "code",
   "execution_count": 1,
   "metadata": {},
   "outputs": [],
   "source": [
    "import pandas as pd\n",
    "import numpy as np\n",
    "from sklearn.decomposition import PCA\n",
    "import matplotlib.pyplot as plt\n",
    "import seaborn as sns\n",
    "from pca import pca\n",
    "import statsmodels.api as sm\n",
    "\n",
    "from sklearn.preprocessing import StandardScaler\n",
    "from sklearn.linear_model import LinearRegression\n",
    "from sklearn.model_selection import train_test_split\n",
    "from sklearn.metrics import mean_squared_error\n",
    "from sklearn.metrics import r2_score\n",
    "from sklearn.model_selection import KFold, GridSearchCV\n",
    "from sklearn.svm import SVR\n",
    "from sklearn import metrics\n",
    "from sklearn.pipeline import Pipeline\n",
    "\n",
    "from sklearn.tree import DecisionTreeRegressor\n",
    "from sklearn import tree\n",
    "from sklearn.ensemble import RandomForestClassifier, VotingClassifier\n",
    "from sklearn.ensemble import RandomForestRegressor\n",
    "from sklearn.datasets import make_regression\n",
    "\n",
    "from sklearn.ensemble import BaggingClassifier\n",
    "from sklearn.tree import DecisionTreeClassifier\n",
    "import sklearn.metrics as metrics\n",
    "from sklearn.tree import plot_tree\n",
    "\n",
    "from sklearn.inspection import DecisionBoundaryDisplay\n",
    "from sklearn.preprocessing import LabelEncoder\n",
    "from sklearn.svm import SVC\n",
    "from sklearn.linear_model import LogisticRegression"
   ]
  },
  {
   "cell_type": "markdown",
   "metadata": {},
   "source": [
    "Loading the data:"
   ]
  },
  {
   "cell_type": "code",
   "execution_count": 2,
   "metadata": {},
   "outputs": [
    {
     "data": {
      "text/html": [
       "<div>\n",
       "<style scoped>\n",
       "    .dataframe tbody tr th:only-of-type {\n",
       "        vertical-align: middle;\n",
       "    }\n",
       "\n",
       "    .dataframe tbody tr th {\n",
       "        vertical-align: top;\n",
       "    }\n",
       "\n",
       "    .dataframe thead th {\n",
       "        text-align: right;\n",
       "    }\n",
       "</style>\n",
       "<table border=\"1\" class=\"dataframe\">\n",
       "  <thead>\n",
       "    <tr style=\"text-align: right;\">\n",
       "      <th></th>\n",
       "      <th>team_name</th>\n",
       "      <th>season</th>\n",
       "      <th>games_played</th>\n",
       "      <th>goal_differential</th>\n",
       "      <th>goals</th>\n",
       "      <th>goals_conceded</th>\n",
       "      <th>cross_accuracy</th>\n",
       "      <th>goal_conversion_pct</th>\n",
       "      <th>pass_pct</th>\n",
       "      <th>pass_pct_opposition_half</th>\n",
       "      <th>possession_pct</th>\n",
       "      <th>shot_accuracy</th>\n",
       "      <th>tackle_success_pct</th>\n",
       "    </tr>\n",
       "  </thead>\n",
       "  <tbody>\n",
       "    <tr>\n",
       "      <th>0</th>\n",
       "      <td>Boston Breakers</td>\n",
       "      <td>2016</td>\n",
       "      <td>20</td>\n",
       "      <td>-33</td>\n",
       "      <td>14</td>\n",
       "      <td>47</td>\n",
       "      <td>25.57</td>\n",
       "      <td>8.97</td>\n",
       "      <td>67.38</td>\n",
       "      <td>57.86</td>\n",
       "      <td>47</td>\n",
       "      <td>42.95</td>\n",
       "      <td>77.42</td>\n",
       "    </tr>\n",
       "    <tr>\n",
       "      <th>1</th>\n",
       "      <td>Boston Breakers</td>\n",
       "      <td>2017</td>\n",
       "      <td>24</td>\n",
       "      <td>-11</td>\n",
       "      <td>24</td>\n",
       "      <td>35</td>\n",
       "      <td>23.70</td>\n",
       "      <td>12.37</td>\n",
       "      <td>72.53</td>\n",
       "      <td>61.42</td>\n",
       "      <td>48</td>\n",
       "      <td>42.78</td>\n",
       "      <td>73.49</td>\n",
       "    </tr>\n",
       "    <tr>\n",
       "      <th>2</th>\n",
       "      <td>Chicago Red Stars</td>\n",
       "      <td>2016</td>\n",
       "      <td>21</td>\n",
       "      <td>3</td>\n",
       "      <td>25</td>\n",
       "      <td>22</td>\n",
       "      <td>21.19</td>\n",
       "      <td>11.79</td>\n",
       "      <td>67.35</td>\n",
       "      <td>57.74</td>\n",
       "      <td>46</td>\n",
       "      <td>48.58</td>\n",
       "      <td>84.32</td>\n",
       "    </tr>\n",
       "    <tr>\n",
       "      <th>3</th>\n",
       "      <td>Chicago Red Stars</td>\n",
       "      <td>2017</td>\n",
       "      <td>25</td>\n",
       "      <td>2</td>\n",
       "      <td>33</td>\n",
       "      <td>31</td>\n",
       "      <td>21.08</td>\n",
       "      <td>13.10</td>\n",
       "      <td>69.23</td>\n",
       "      <td>61.52</td>\n",
       "      <td>47</td>\n",
       "      <td>49.60</td>\n",
       "      <td>71.29</td>\n",
       "    </tr>\n",
       "    <tr>\n",
       "      <th>4</th>\n",
       "      <td>Chicago Red Stars</td>\n",
       "      <td>2018</td>\n",
       "      <td>25</td>\n",
       "      <td>8</td>\n",
       "      <td>38</td>\n",
       "      <td>30</td>\n",
       "      <td>25.96</td>\n",
       "      <td>13.67</td>\n",
       "      <td>71.63</td>\n",
       "      <td>64.55</td>\n",
       "      <td>51</td>\n",
       "      <td>45.68</td>\n",
       "      <td>67.97</td>\n",
       "    </tr>\n",
       "  </tbody>\n",
       "</table>\n",
       "</div>"
      ],
      "text/plain": [
       "           team_name  season  games_played  goal_differential  goals  \\\n",
       "0    Boston Breakers    2016            20                -33     14   \n",
       "1    Boston Breakers    2017            24                -11     24   \n",
       "2  Chicago Red Stars    2016            21                  3     25   \n",
       "3  Chicago Red Stars    2017            25                  2     33   \n",
       "4  Chicago Red Stars    2018            25                  8     38   \n",
       "\n",
       "   goals_conceded  cross_accuracy  goal_conversion_pct  pass_pct  \\\n",
       "0              47           25.57                 8.97     67.38   \n",
       "1              35           23.70                12.37     72.53   \n",
       "2              22           21.19                11.79     67.35   \n",
       "3              31           21.08                13.10     69.23   \n",
       "4              30           25.96                13.67     71.63   \n",
       "\n",
       "   pass_pct_opposition_half  possession_pct  shot_accuracy  tackle_success_pct  \n",
       "0                     57.86              47          42.95               77.42  \n",
       "1                     61.42              48          42.78               73.49  \n",
       "2                     57.74              46          48.58               84.32  \n",
       "3                     61.52              47          49.60               71.29  \n",
       "4                     64.55              51          45.68               67.97  "
      ]
     },
     "execution_count": 2,
     "metadata": {},
     "output_type": "execute_result"
    }
   ],
   "source": [
    "soccer_data = pd.read_csv('nwsl-team-stats.csv')\n",
    "\n",
    "soccer_data.head()"
   ]
  },
  {
   "cell_type": "markdown",
   "metadata": {},
   "source": [
    "Selecting the X anf y features for linear regression (same as in the original code):"
   ]
  },
  {
   "cell_type": "code",
   "execution_count": 3,
   "metadata": {},
   "outputs": [],
   "source": [
    "X = soccer_data[['games_played', 'cross_accuracy', 'goal_conversion_pct', 'pass_pct', \\\n",
    "'pass_pct_opposition_half', 'possession_pct', 'shot_accuracy', 'tackle_success_pct']]\n",
    "\n",
    "y = soccer_data['goal_differential']"
   ]
  },
  {
   "cell_type": "markdown",
   "metadata": {},
   "source": [
    "Creating a train test split (same as in the original code):"
   ]
  },
  {
   "cell_type": "code",
   "execution_count": 4,
   "metadata": {},
   "outputs": [],
   "source": [
    "X_train, X_test, y_train, y_test = train_test_split(X, y, test_size=0.2, random_state=42)"
   ]
  },
  {
   "cell_type": "markdown",
   "metadata": {},
   "source": [
    "Scaling the data (same as in the original code):"
   ]
  },
  {
   "cell_type": "code",
   "execution_count": 5,
   "metadata": {},
   "outputs": [],
   "source": [
    "scaler = StandardScaler()\n",
    "X_train_scaled = scaler.fit_transform(X_train)\n",
    "X_test_scaled = scaler.transform(X_test)"
   ]
  },
  {
   "cell_type": "markdown",
   "metadata": {},
   "source": [
    "Fitting the linear regression model (same as in the original code):"
   ]
  },
  {
   "cell_type": "code",
   "execution_count": 6,
   "metadata": {},
   "outputs": [],
   "source": [
    "model = LinearRegression()\n",
    "\n",
    "model.fit(X_train_scaled, y_train)\n",
    "\n",
    "y_train_pred = model.predict(X_train_scaled)\n",
    "y_test_pred = model.predict(X_test_scaled)"
   ]
  },
  {
   "cell_type": "markdown",
   "metadata": {},
   "source": [
    "Obtaining the X variable coefficients (same as in the original code):"
   ]
  },
  {
   "cell_type": "code",
   "execution_count": 7,
   "metadata": {},
   "outputs": [
    {
     "data": {
      "text/plain": [
       "array([ 2.94146848,  3.66213088,  6.68268588, -3.89538562,  1.93705622,\n",
       "        6.51269893, -0.95288718, -0.93046738])"
      ]
     },
     "execution_count": 7,
     "metadata": {},
     "output_type": "execute_result"
    }
   ],
   "source": [
    "model.coef_"
   ]
  },
  {
   "cell_type": "markdown",
   "metadata": {},
   "source": [
    "Obtaining the intercept value (same as in the original code):"
   ]
  },
  {
   "cell_type": "code",
   "execution_count": 8,
   "metadata": {},
   "outputs": [
    {
     "data": {
      "text/plain": [
       "0.34042553191488306"
      ]
     },
     "execution_count": 8,
     "metadata": {},
     "output_type": "execute_result"
    }
   ],
   "source": [
    "model.intercept_"
   ]
  },
  {
   "cell_type": "markdown",
   "metadata": {},
   "source": [
    "Obtaining MSE (same as in the original code):"
   ]
  },
  {
   "cell_type": "code",
   "execution_count": 9,
   "metadata": {},
   "outputs": [
    {
     "name": "stdout",
     "output_type": "stream",
     "text": [
      "Training MSE: 87.18987249386363\n",
      "Test MSE: 78.94283999537852\n"
     ]
    }
   ],
   "source": [
    "mse_test = mean_squared_error(y_test, y_test_pred)\n",
    "mse_train = mean_squared_error(y_train, y_train_pred)\n",
    "\n",
    "print(f'Training MSE: {mse_train}')\n",
    "print(f'Test MSE: {mse_test}')"
   ]
  },
  {
   "cell_type": "markdown",
   "metadata": {},
   "source": [
    "Obtaining R Squared values (same as in the original code):"
   ]
  },
  {
   "cell_type": "code",
   "execution_count": 10,
   "metadata": {},
   "outputs": [
    {
     "name": "stdout",
     "output_type": "stream",
     "text": [
      "Training R Squared: 0.5390698510038272\n",
      "Test R Squared: 0.7770457379462508\n"
     ]
    }
   ],
   "source": [
    "r2_train = r2_score(y_train,y_train_pred)\n",
    "r2_test = r2_score(y_test,y_test_pred)\n",
    "\n",
    "print(f'Training R Squared: {r2_train}')\n",
    "print(f'Test R Squared: {r2_test}')"
   ]
  },
  {
   "cell_type": "markdown",
   "metadata": {},
   "source": [
    "Randomly selecting two of the 59 rows in the data set:"
   ]
  },
  {
   "cell_type": "code",
   "execution_count": 11,
   "metadata": {},
   "outputs": [
    {
     "data": {
      "text/html": [
       "<div>\n",
       "<style scoped>\n",
       "    .dataframe tbody tr th:only-of-type {\n",
       "        vertical-align: middle;\n",
       "    }\n",
       "\n",
       "    .dataframe tbody tr th {\n",
       "        vertical-align: top;\n",
       "    }\n",
       "\n",
       "    .dataframe thead th {\n",
       "        text-align: right;\n",
       "    }\n",
       "</style>\n",
       "<table border=\"1\" class=\"dataframe\">\n",
       "  <thead>\n",
       "    <tr style=\"text-align: right;\">\n",
       "      <th></th>\n",
       "      <th>team_name</th>\n",
       "      <th>season</th>\n",
       "      <th>games_played</th>\n",
       "      <th>goal_differential</th>\n",
       "      <th>goals</th>\n",
       "      <th>goals_conceded</th>\n",
       "      <th>cross_accuracy</th>\n",
       "      <th>goal_conversion_pct</th>\n",
       "      <th>pass_pct</th>\n",
       "      <th>pass_pct_opposition_half</th>\n",
       "      <th>possession_pct</th>\n",
       "      <th>shot_accuracy</th>\n",
       "      <th>tackle_success_pct</th>\n",
       "    </tr>\n",
       "  </thead>\n",
       "  <tbody>\n",
       "    <tr>\n",
       "      <th>47</th>\n",
       "      <td>North Carolina Courage</td>\n",
       "      <td>2018</td>\n",
       "      <td>26</td>\n",
       "      <td>41</td>\n",
       "      <td>58</td>\n",
       "      <td>17</td>\n",
       "      <td>33.16</td>\n",
       "      <td>14.15</td>\n",
       "      <td>71.06</td>\n",
       "      <td>63.15</td>\n",
       "      <td>50</td>\n",
       "      <td>46.10</td>\n",
       "      <td>73.84</td>\n",
       "    </tr>\n",
       "    <tr>\n",
       "      <th>18</th>\n",
       "      <td>NJ/NY Gotham FC</td>\n",
       "      <td>2018</td>\n",
       "      <td>24</td>\n",
       "      <td>-31</td>\n",
       "      <td>21</td>\n",
       "      <td>52</td>\n",
       "      <td>24.91</td>\n",
       "      <td>9.38</td>\n",
       "      <td>72.07</td>\n",
       "      <td>63.06</td>\n",
       "      <td>48</td>\n",
       "      <td>45.54</td>\n",
       "      <td>70.29</td>\n",
       "    </tr>\n",
       "    <tr>\n",
       "      <th>56</th>\n",
       "      <td>Racing Louisville FC</td>\n",
       "      <td>2022</td>\n",
       "      <td>22</td>\n",
       "      <td>-12</td>\n",
       "      <td>23</td>\n",
       "      <td>35</td>\n",
       "      <td>20.18</td>\n",
       "      <td>11.50</td>\n",
       "      <td>72.50</td>\n",
       "      <td>62.09</td>\n",
       "      <td>49</td>\n",
       "      <td>42.00</td>\n",
       "      <td>62.87</td>\n",
       "    </tr>\n",
       "    <tr>\n",
       "      <th>13</th>\n",
       "      <td>Houston Dash</td>\n",
       "      <td>2019</td>\n",
       "      <td>24</td>\n",
       "      <td>-15</td>\n",
       "      <td>21</td>\n",
       "      <td>36</td>\n",
       "      <td>20.27</td>\n",
       "      <td>9.33</td>\n",
       "      <td>73.27</td>\n",
       "      <td>62.45</td>\n",
       "      <td>48</td>\n",
       "      <td>45.78</td>\n",
       "      <td>60.61</td>\n",
       "    </tr>\n",
       "  </tbody>\n",
       "</table>\n",
       "</div>"
      ],
      "text/plain": [
       "                 team_name  season  games_played  goal_differential  goals  \\\n",
       "47  North Carolina Courage    2018            26                 41     58   \n",
       "18         NJ/NY Gotham FC    2018            24                -31     21   \n",
       "56    Racing Louisville FC    2022            22                -12     23   \n",
       "13            Houston Dash    2019            24                -15     21   \n",
       "\n",
       "    goals_conceded  cross_accuracy  goal_conversion_pct  pass_pct  \\\n",
       "47              17           33.16                14.15     71.06   \n",
       "18              52           24.91                 9.38     72.07   \n",
       "56              35           20.18                11.50     72.50   \n",
       "13              36           20.27                 9.33     73.27   \n",
       "\n",
       "    pass_pct_opposition_half  possession_pct  shot_accuracy  \\\n",
       "47                     63.15              50          46.10   \n",
       "18                     63.06              48          45.54   \n",
       "56                     62.09              49          42.00   \n",
       "13                     62.45              48          45.78   \n",
       "\n",
       "    tackle_success_pct  \n",
       "47               73.84  \n",
       "18               70.29  \n",
       "56               62.87  \n",
       "13               60.61  "
      ]
     },
     "execution_count": 11,
     "metadata": {},
     "output_type": "execute_result"
    }
   ],
   "source": [
    "data_test = soccer_data.sample(n=4, random_state=3)\n",
    "\n",
    "data_test"
   ]
  },
  {
   "cell_type": "markdown",
   "metadata": {},
   "source": [
    "Creating the X data for testing on the linear regression model:"
   ]
  },
  {
   "cell_type": "code",
   "execution_count": 12,
   "metadata": {},
   "outputs": [
    {
     "data": {
      "text/html": [
       "<div>\n",
       "<style scoped>\n",
       "    .dataframe tbody tr th:only-of-type {\n",
       "        vertical-align: middle;\n",
       "    }\n",
       "\n",
       "    .dataframe tbody tr th {\n",
       "        vertical-align: top;\n",
       "    }\n",
       "\n",
       "    .dataframe thead th {\n",
       "        text-align: right;\n",
       "    }\n",
       "</style>\n",
       "<table border=\"1\" class=\"dataframe\">\n",
       "  <thead>\n",
       "    <tr style=\"text-align: right;\">\n",
       "      <th></th>\n",
       "      <th>games_played</th>\n",
       "      <th>cross_accuracy</th>\n",
       "      <th>goal_conversion_pct</th>\n",
       "      <th>pass_pct</th>\n",
       "      <th>pass_pct_opposition_half</th>\n",
       "      <th>possession_pct</th>\n",
       "      <th>shot_accuracy</th>\n",
       "      <th>tackle_success_pct</th>\n",
       "    </tr>\n",
       "  </thead>\n",
       "  <tbody>\n",
       "    <tr>\n",
       "      <th>47</th>\n",
       "      <td>26</td>\n",
       "      <td>33.16</td>\n",
       "      <td>14.15</td>\n",
       "      <td>71.06</td>\n",
       "      <td>63.15</td>\n",
       "      <td>50</td>\n",
       "      <td>46.10</td>\n",
       "      <td>73.84</td>\n",
       "    </tr>\n",
       "    <tr>\n",
       "      <th>18</th>\n",
       "      <td>24</td>\n",
       "      <td>24.91</td>\n",
       "      <td>9.38</td>\n",
       "      <td>72.07</td>\n",
       "      <td>63.06</td>\n",
       "      <td>48</td>\n",
       "      <td>45.54</td>\n",
       "      <td>70.29</td>\n",
       "    </tr>\n",
       "    <tr>\n",
       "      <th>56</th>\n",
       "      <td>22</td>\n",
       "      <td>20.18</td>\n",
       "      <td>11.50</td>\n",
       "      <td>72.50</td>\n",
       "      <td>62.09</td>\n",
       "      <td>49</td>\n",
       "      <td>42.00</td>\n",
       "      <td>62.87</td>\n",
       "    </tr>\n",
       "    <tr>\n",
       "      <th>13</th>\n",
       "      <td>24</td>\n",
       "      <td>20.27</td>\n",
       "      <td>9.33</td>\n",
       "      <td>73.27</td>\n",
       "      <td>62.45</td>\n",
       "      <td>48</td>\n",
       "      <td>45.78</td>\n",
       "      <td>60.61</td>\n",
       "    </tr>\n",
       "  </tbody>\n",
       "</table>\n",
       "</div>"
      ],
      "text/plain": [
       "    games_played  cross_accuracy  goal_conversion_pct  pass_pct  \\\n",
       "47            26           33.16                14.15     71.06   \n",
       "18            24           24.91                 9.38     72.07   \n",
       "56            22           20.18                11.50     72.50   \n",
       "13            24           20.27                 9.33     73.27   \n",
       "\n",
       "    pass_pct_opposition_half  possession_pct  shot_accuracy  \\\n",
       "47                     63.15              50          46.10   \n",
       "18                     63.06              48          45.54   \n",
       "56                     62.09              49          42.00   \n",
       "13                     62.45              48          45.78   \n",
       "\n",
       "    tackle_success_pct  \n",
       "47               73.84  \n",
       "18               70.29  \n",
       "56               62.87  \n",
       "13               60.61  "
      ]
     },
     "execution_count": 12,
     "metadata": {},
     "output_type": "execute_result"
    }
   ],
   "source": [
    "x_data_test = data_test[['games_played','cross_accuracy','goal_conversion_pct','pass_pct','pass_pct_opposition_half','possession_pct','shot_accuracy','tackle_success_pct']]\n",
    "\n",
    "x_data_test"
   ]
  },
  {
   "cell_type": "markdown",
   "metadata": {},
   "source": [
    "scaling the X data:"
   ]
  },
  {
   "cell_type": "code",
   "execution_count": 13,
   "metadata": {},
   "outputs": [],
   "source": [
    "scaler = StandardScaler()\n",
    "x_data_test_scaled = scaler.fit_transform(x_data_test)"
   ]
  },
  {
   "cell_type": "markdown",
   "metadata": {},
   "source": [
    "making a prediction:"
   ]
  },
  {
   "cell_type": "code",
   "execution_count": 14,
   "metadata": {},
   "outputs": [
    {
     "data": {
      "text/plain": [
       "array([ 36.41755197,  -9.72625897,  -5.2005303 , -20.12906057])"
      ]
     },
     "execution_count": 14,
     "metadata": {},
     "output_type": "execute_result"
    }
   ],
   "source": [
    "data_predict = model.predict(x_data_test_scaled)\n",
    "\n",
    "data_predict"
   ]
  },
  {
   "cell_type": "markdown",
   "metadata": {},
   "source": [
    "### Making synthetic Data:"
   ]
  },
  {
   "cell_type": "code",
   "execution_count": 15,
   "metadata": {},
   "outputs": [
    {
     "data": {
      "text/html": [
       "<div>\n",
       "<style scoped>\n",
       "    .dataframe tbody tr th:only-of-type {\n",
       "        vertical-align: middle;\n",
       "    }\n",
       "\n",
       "    .dataframe tbody tr th {\n",
       "        vertical-align: top;\n",
       "    }\n",
       "\n",
       "    .dataframe thead th {\n",
       "        text-align: right;\n",
       "    }\n",
       "</style>\n",
       "<table border=\"1\" class=\"dataframe\">\n",
       "  <thead>\n",
       "    <tr style=\"text-align: right;\">\n",
       "      <th></th>\n",
       "      <th>season</th>\n",
       "      <th>games_played</th>\n",
       "      <th>goal_differential</th>\n",
       "      <th>goals</th>\n",
       "      <th>goals_conceded</th>\n",
       "      <th>cross_accuracy</th>\n",
       "      <th>goal_conversion_pct</th>\n",
       "      <th>pass_pct</th>\n",
       "      <th>pass_pct_opposition_half</th>\n",
       "      <th>possession_pct</th>\n",
       "      <th>shot_accuracy</th>\n",
       "      <th>tackle_success_pct</th>\n",
       "    </tr>\n",
       "  </thead>\n",
       "  <tbody>\n",
       "    <tr>\n",
       "      <th>count</th>\n",
       "      <td>59.000000</td>\n",
       "      <td>59.000000</td>\n",
       "      <td>59.000000</td>\n",
       "      <td>59.000000</td>\n",
       "      <td>59.000000</td>\n",
       "      <td>59.000000</td>\n",
       "      <td>59.000000</td>\n",
       "      <td>59.000000</td>\n",
       "      <td>59.000000</td>\n",
       "      <td>59.000000</td>\n",
       "      <td>59.000000</td>\n",
       "      <td>59.000000</td>\n",
       "    </tr>\n",
       "    <tr>\n",
       "      <th>mean</th>\n",
       "      <td>2018.949153</td>\n",
       "      <td>23.593220</td>\n",
       "      <td>0.491525</td>\n",
       "      <td>31.254237</td>\n",
       "      <td>30.762712</td>\n",
       "      <td>23.829153</td>\n",
       "      <td>12.804407</td>\n",
       "      <td>73.234068</td>\n",
       "      <td>63.746271</td>\n",
       "      <td>50.033898</td>\n",
       "      <td>46.563220</td>\n",
       "      <td>67.517627</td>\n",
       "    </tr>\n",
       "    <tr>\n",
       "      <th>std</th>\n",
       "      <td>2.223881</td>\n",
       "      <td>1.772575</td>\n",
       "      <td>15.054353</td>\n",
       "      <td>10.411521</td>\n",
       "      <td>8.173420</td>\n",
       "      <td>2.720766</td>\n",
       "      <td>3.000926</td>\n",
       "      <td>3.450056</td>\n",
       "      <td>3.976299</td>\n",
       "      <td>3.162093</td>\n",
       "      <td>3.988194</td>\n",
       "      <td>8.643450</td>\n",
       "    </tr>\n",
       "    <tr>\n",
       "      <th>min</th>\n",
       "      <td>2016.000000</td>\n",
       "      <td>20.000000</td>\n",
       "      <td>-33.000000</td>\n",
       "      <td>12.000000</td>\n",
       "      <td>17.000000</td>\n",
       "      <td>18.420000</td>\n",
       "      <td>5.430000</td>\n",
       "      <td>62.600000</td>\n",
       "      <td>53.710000</td>\n",
       "      <td>41.000000</td>\n",
       "      <td>35.190000</td>\n",
       "      <td>56.870000</td>\n",
       "    </tr>\n",
       "    <tr>\n",
       "      <th>25%</th>\n",
       "      <td>2017.000000</td>\n",
       "      <td>22.000000</td>\n",
       "      <td>-8.000000</td>\n",
       "      <td>23.500000</td>\n",
       "      <td>24.000000</td>\n",
       "      <td>22.285000</td>\n",
       "      <td>10.860000</td>\n",
       "      <td>71.360000</td>\n",
       "      <td>61.480000</td>\n",
       "      <td>48.000000</td>\n",
       "      <td>44.015000</td>\n",
       "      <td>59.660000</td>\n",
       "    </tr>\n",
       "    <tr>\n",
       "      <th>50%</th>\n",
       "      <td>2019.000000</td>\n",
       "      <td>24.000000</td>\n",
       "      <td>2.000000</td>\n",
       "      <td>30.000000</td>\n",
       "      <td>31.000000</td>\n",
       "      <td>23.640000</td>\n",
       "      <td>13.100000</td>\n",
       "      <td>72.560000</td>\n",
       "      <td>62.970000</td>\n",
       "      <td>50.000000</td>\n",
       "      <td>46.540000</td>\n",
       "      <td>65.450000</td>\n",
       "    </tr>\n",
       "    <tr>\n",
       "      <th>75%</th>\n",
       "      <td>2021.000000</td>\n",
       "      <td>25.000000</td>\n",
       "      <td>10.000000</td>\n",
       "      <td>37.000000</td>\n",
       "      <td>35.000000</td>\n",
       "      <td>25.140000</td>\n",
       "      <td>14.855000</td>\n",
       "      <td>76.325000</td>\n",
       "      <td>65.325000</td>\n",
       "      <td>52.500000</td>\n",
       "      <td>49.030000</td>\n",
       "      <td>73.860000</td>\n",
       "    </tr>\n",
       "    <tr>\n",
       "      <th>max</th>\n",
       "      <td>2022.000000</td>\n",
       "      <td>27.000000</td>\n",
       "      <td>41.000000</td>\n",
       "      <td>62.000000</td>\n",
       "      <td>52.000000</td>\n",
       "      <td>33.160000</td>\n",
       "      <td>20.000000</td>\n",
       "      <td>79.990000</td>\n",
       "      <td>72.140000</td>\n",
       "      <td>58.000000</td>\n",
       "      <td>54.020000</td>\n",
       "      <td>86.340000</td>\n",
       "    </tr>\n",
       "  </tbody>\n",
       "</table>\n",
       "</div>"
      ],
      "text/plain": [
       "            season  games_played  goal_differential      goals  \\\n",
       "count    59.000000     59.000000          59.000000  59.000000   \n",
       "mean   2018.949153     23.593220           0.491525  31.254237   \n",
       "std       2.223881      1.772575          15.054353  10.411521   \n",
       "min    2016.000000     20.000000         -33.000000  12.000000   \n",
       "25%    2017.000000     22.000000          -8.000000  23.500000   \n",
       "50%    2019.000000     24.000000           2.000000  30.000000   \n",
       "75%    2021.000000     25.000000          10.000000  37.000000   \n",
       "max    2022.000000     27.000000          41.000000  62.000000   \n",
       "\n",
       "       goals_conceded  cross_accuracy  goal_conversion_pct   pass_pct  \\\n",
       "count       59.000000       59.000000            59.000000  59.000000   \n",
       "mean        30.762712       23.829153            12.804407  73.234068   \n",
       "std          8.173420        2.720766             3.000926   3.450056   \n",
       "min         17.000000       18.420000             5.430000  62.600000   \n",
       "25%         24.000000       22.285000            10.860000  71.360000   \n",
       "50%         31.000000       23.640000            13.100000  72.560000   \n",
       "75%         35.000000       25.140000            14.855000  76.325000   \n",
       "max         52.000000       33.160000            20.000000  79.990000   \n",
       "\n",
       "       pass_pct_opposition_half  possession_pct  shot_accuracy  \\\n",
       "count                 59.000000       59.000000      59.000000   \n",
       "mean                  63.746271       50.033898      46.563220   \n",
       "std                    3.976299        3.162093       3.988194   \n",
       "min                   53.710000       41.000000      35.190000   \n",
       "25%                   61.480000       48.000000      44.015000   \n",
       "50%                   62.970000       50.000000      46.540000   \n",
       "75%                   65.325000       52.500000      49.030000   \n",
       "max                   72.140000       58.000000      54.020000   \n",
       "\n",
       "       tackle_success_pct  \n",
       "count           59.000000  \n",
       "mean            67.517627  \n",
       "std              8.643450  \n",
       "min             56.870000  \n",
       "25%             59.660000  \n",
       "50%             65.450000  \n",
       "75%             73.860000  \n",
       "max             86.340000  "
      ]
     },
     "execution_count": 15,
     "metadata": {},
     "output_type": "execute_result"
    }
   ],
   "source": [
    "soccer_data.describe()"
   ]
  },
  {
   "cell_type": "markdown",
   "metadata": {},
   "source": [
    "Using the mean for each x variable used in the linear regression model and going 2 standard deviations away in a positive or negative way to make a \"good\" team and a \"bad\" team "
   ]
  },
  {
   "cell_type": "code",
   "execution_count": 16,
   "metadata": {},
   "outputs": [
    {
     "data": {
      "text/html": [
       "<div>\n",
       "<style scoped>\n",
       "    .dataframe tbody tr th:only-of-type {\n",
       "        vertical-align: middle;\n",
       "    }\n",
       "\n",
       "    .dataframe tbody tr th {\n",
       "        vertical-align: top;\n",
       "    }\n",
       "\n",
       "    .dataframe thead th {\n",
       "        text-align: right;\n",
       "    }\n",
       "</style>\n",
       "<table border=\"1\" class=\"dataframe\">\n",
       "  <thead>\n",
       "    <tr style=\"text-align: right;\">\n",
       "      <th></th>\n",
       "      <th>team</th>\n",
       "      <th>games_played</th>\n",
       "      <th>cross_accuracy</th>\n",
       "      <th>goal_conversion_pct</th>\n",
       "      <th>pass_pct</th>\n",
       "      <th>pass_pct_opposition_half</th>\n",
       "      <th>possession_pct</th>\n",
       "      <th>shot_accuracy</th>\n",
       "      <th>tackle_success_pct</th>\n",
       "    </tr>\n",
       "  </thead>\n",
       "  <tbody>\n",
       "    <tr>\n",
       "      <th>0</th>\n",
       "      <td>Good Team</td>\n",
       "      <td>23.59322</td>\n",
       "      <td>29.270685</td>\n",
       "      <td>18.806259</td>\n",
       "      <td>80.134180</td>\n",
       "      <td>71.698869</td>\n",
       "      <td>56.358084</td>\n",
       "      <td>54.539608</td>\n",
       "      <td>84.804572</td>\n",
       "    </tr>\n",
       "    <tr>\n",
       "      <th>1</th>\n",
       "      <td>Bad Team</td>\n",
       "      <td>23.59322</td>\n",
       "      <td>18.387621</td>\n",
       "      <td>6.802555</td>\n",
       "      <td>66.333956</td>\n",
       "      <td>55.793673</td>\n",
       "      <td>43.709712</td>\n",
       "      <td>38.586832</td>\n",
       "      <td>50.230772</td>\n",
       "    </tr>\n",
       "  </tbody>\n",
       "</table>\n",
       "</div>"
      ],
      "text/plain": [
       "        team  games_played  cross_accuracy  goal_conversion_pct   pass_pct  \\\n",
       "0  Good Team      23.59322       29.270685            18.806259  80.134180   \n",
       "1   Bad Team      23.59322       18.387621             6.802555  66.333956   \n",
       "\n",
       "   pass_pct_opposition_half  possession_pct  shot_accuracy  tackle_success_pct  \n",
       "0                 71.698869       56.358084      54.539608           84.804572  \n",
       "1                 55.793673       43.709712      38.586832           50.230772  "
      ]
     },
     "execution_count": 16,
     "metadata": {},
     "output_type": "execute_result"
    }
   ],
   "source": [
    "synthetic_data = {'team': ['Good Team','Bad Team'],'games_played': [23.593220, 23.593220], 'cross_accuracy': [29.270685, 18.387621], 'goal_conversion_pct': [18.806259, 6.802555], \\\n",
    "    'pass_pct': [80.13418, 66.333956], 'pass_pct_opposition_half': [71.698869, 55.793673], 'possession_pct': [56.358084, 43.709712], 'shot_accuracy': [54.539608, 38.586832], \\\n",
    "        'tackle_success_pct': [84.804572, 50.230772]}\n",
    "\n",
    "synthetic_df = pd.DataFrame(synthetic_data)\n",
    "\n",
    "synthetic_df"
   ]
  },
  {
   "cell_type": "markdown",
   "metadata": {},
   "source": [
    "Selecting the features for linear regression:"
   ]
  },
  {
   "cell_type": "code",
   "execution_count": 17,
   "metadata": {},
   "outputs": [
    {
     "data": {
      "text/html": [
       "<div>\n",
       "<style scoped>\n",
       "    .dataframe tbody tr th:only-of-type {\n",
       "        vertical-align: middle;\n",
       "    }\n",
       "\n",
       "    .dataframe tbody tr th {\n",
       "        vertical-align: top;\n",
       "    }\n",
       "\n",
       "    .dataframe thead th {\n",
       "        text-align: right;\n",
       "    }\n",
       "</style>\n",
       "<table border=\"1\" class=\"dataframe\">\n",
       "  <thead>\n",
       "    <tr style=\"text-align: right;\">\n",
       "      <th></th>\n",
       "      <th>games_played</th>\n",
       "      <th>cross_accuracy</th>\n",
       "      <th>goal_conversion_pct</th>\n",
       "      <th>pass_pct</th>\n",
       "      <th>pass_pct_opposition_half</th>\n",
       "      <th>possession_pct</th>\n",
       "      <th>shot_accuracy</th>\n",
       "      <th>tackle_success_pct</th>\n",
       "    </tr>\n",
       "  </thead>\n",
       "  <tbody>\n",
       "    <tr>\n",
       "      <th>0</th>\n",
       "      <td>23.59322</td>\n",
       "      <td>29.270685</td>\n",
       "      <td>18.806259</td>\n",
       "      <td>80.134180</td>\n",
       "      <td>71.698869</td>\n",
       "      <td>56.358084</td>\n",
       "      <td>54.539608</td>\n",
       "      <td>84.804572</td>\n",
       "    </tr>\n",
       "    <tr>\n",
       "      <th>1</th>\n",
       "      <td>23.59322</td>\n",
       "      <td>18.387621</td>\n",
       "      <td>6.802555</td>\n",
       "      <td>66.333956</td>\n",
       "      <td>55.793673</td>\n",
       "      <td>43.709712</td>\n",
       "      <td>38.586832</td>\n",
       "      <td>50.230772</td>\n",
       "    </tr>\n",
       "  </tbody>\n",
       "</table>\n",
       "</div>"
      ],
      "text/plain": [
       "   games_played  cross_accuracy  goal_conversion_pct   pass_pct  \\\n",
       "0      23.59322       29.270685            18.806259  80.134180   \n",
       "1      23.59322       18.387621             6.802555  66.333956   \n",
       "\n",
       "   pass_pct_opposition_half  possession_pct  shot_accuracy  tackle_success_pct  \n",
       "0                 71.698869       56.358084      54.539608           84.804572  \n",
       "1                 55.793673       43.709712      38.586832           50.230772  "
      ]
     },
     "execution_count": 17,
     "metadata": {},
     "output_type": "execute_result"
    }
   ],
   "source": [
    "x_synthetic_data = synthetic_df[['games_played','cross_accuracy','goal_conversion_pct','pass_pct','pass_pct_opposition_half','possession_pct','shot_accuracy','tackle_success_pct']]\n",
    "\n",
    "x_synthetic_data \n"
   ]
  },
  {
   "cell_type": "markdown",
   "metadata": {},
   "source": [
    "Scaling the data:"
   ]
  },
  {
   "cell_type": "code",
   "execution_count": 18,
   "metadata": {},
   "outputs": [],
   "source": [
    "scaler = StandardScaler()\n",
    "x_synthetic_test_scaled = scaler.fit_transform(x_synthetic_data)"
   ]
  },
  {
   "cell_type": "markdown",
   "metadata": {},
   "source": [
    "Predicting goal_differential from the linear regression:"
   ]
  },
  {
   "cell_type": "code",
   "execution_count": 19,
   "metadata": {},
   "outputs": [
    {
     "data": {
      "text/plain": [
       "array([ 13.35625727, -12.6754062 ])"
      ]
     },
     "execution_count": 19,
     "metadata": {},
     "output_type": "execute_result"
    }
   ],
   "source": [
    "synthetic_data_predict = model.predict(x_synthetic_test_scaled)\n",
    "\n",
    "synthetic_data_predict"
   ]
  }
 ],
 "metadata": {
  "kernelspec": {
   "display_name": "Python 3",
   "language": "python",
   "name": "python3"
  },
  "language_info": {
   "codemirror_mode": {
    "name": "ipython",
    "version": 3
   },
   "file_extension": ".py",
   "mimetype": "text/x-python",
   "name": "python",
   "nbconvert_exporter": "python",
   "pygments_lexer": "ipython3",
   "version": "3.12.3"
  }
 },
 "nbformat": 4,
 "nbformat_minor": 2
}
