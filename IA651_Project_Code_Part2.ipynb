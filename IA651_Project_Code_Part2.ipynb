{
 "cells": [
  {
   "cell_type": "markdown",
   "metadata": {},
   "source": [
    "## IA 651 Project Code (Linear Regression and SVR with less features)"
   ]
  },
  {
   "cell_type": "markdown",
   "metadata": {},
   "source": [
    "Using features not associated with a team's goal_differential to fit a linear model and assess it compared to other models."
   ]
  },
  {
   "cell_type": "code",
   "execution_count": 1,
   "metadata": {},
   "outputs": [],
   "source": [
    "import pandas as pd\n",
    "import numpy as np\n",
    "from sklearn.decomposition import PCA\n",
    "import matplotlib.pyplot as plt\n",
    "import seaborn as sns\n",
    "from pca import pca\n",
    "import statsmodels.api as sm\n",
    "\n",
    "from sklearn.preprocessing import StandardScaler\n",
    "from sklearn.linear_model import LinearRegression\n",
    "from sklearn.model_selection import train_test_split\n",
    "from sklearn.metrics import mean_squared_error\n",
    "from sklearn.metrics import r2_score\n",
    "from sklearn.model_selection import KFold, GridSearchCV\n",
    "from sklearn.svm import SVR\n",
    "from sklearn import metrics\n",
    "from sklearn.pipeline import Pipeline\n",
    "\n",
    "from sklearn.tree import DecisionTreeRegressor\n",
    "from sklearn import tree\n",
    "from sklearn.ensemble import RandomForestClassifier, VotingClassifier\n",
    "from sklearn.ensemble import RandomForestRegressor\n",
    "from sklearn.datasets import make_regression\n",
    "\n",
    "from sklearn.ensemble import BaggingClassifier\n",
    "from sklearn.tree import DecisionTreeClassifier\n",
    "import sklearn.metrics as metrics\n",
    "from sklearn.tree import plot_tree\n",
    "\n",
    "from sklearn.inspection import DecisionBoundaryDisplay\n",
    "from sklearn.preprocessing import LabelEncoder\n",
    "from sklearn.svm import SVC\n",
    "from sklearn.linear_model import LogisticRegression"
   ]
  },
  {
   "cell_type": "markdown",
   "metadata": {},
   "source": [
    "Leading in the same data:"
   ]
  },
  {
   "cell_type": "code",
   "execution_count": 2,
   "metadata": {},
   "outputs": [
    {
     "name": "stdout",
     "output_type": "stream",
     "text": [
      "(59, 13)\n"
     ]
    }
   ],
   "source": [
    "df = pd.read_csv(\"nwsl-team-stats.csv\")\n",
    "print(df.shape)"
   ]
  },
  {
   "cell_type": "code",
   "execution_count": 3,
   "metadata": {},
   "outputs": [
    {
     "data": {
      "text/html": [
       "<div>\n",
       "<style scoped>\n",
       "    .dataframe tbody tr th:only-of-type {\n",
       "        vertical-align: middle;\n",
       "    }\n",
       "\n",
       "    .dataframe tbody tr th {\n",
       "        vertical-align: top;\n",
       "    }\n",
       "\n",
       "    .dataframe thead th {\n",
       "        text-align: right;\n",
       "    }\n",
       "</style>\n",
       "<table border=\"1\" class=\"dataframe\">\n",
       "  <thead>\n",
       "    <tr style=\"text-align: right;\">\n",
       "      <th></th>\n",
       "      <th>team_name</th>\n",
       "      <th>season</th>\n",
       "      <th>games_played</th>\n",
       "      <th>goal_differential</th>\n",
       "      <th>goals</th>\n",
       "      <th>goals_conceded</th>\n",
       "      <th>cross_accuracy</th>\n",
       "      <th>goal_conversion_pct</th>\n",
       "      <th>pass_pct</th>\n",
       "      <th>pass_pct_opposition_half</th>\n",
       "      <th>possession_pct</th>\n",
       "      <th>shot_accuracy</th>\n",
       "      <th>tackle_success_pct</th>\n",
       "    </tr>\n",
       "  </thead>\n",
       "  <tbody>\n",
       "    <tr>\n",
       "      <th>0</th>\n",
       "      <td>Boston Breakers</td>\n",
       "      <td>2016</td>\n",
       "      <td>20</td>\n",
       "      <td>-33</td>\n",
       "      <td>14</td>\n",
       "      <td>47</td>\n",
       "      <td>25.57</td>\n",
       "      <td>8.97</td>\n",
       "      <td>67.38</td>\n",
       "      <td>57.86</td>\n",
       "      <td>47</td>\n",
       "      <td>42.95</td>\n",
       "      <td>77.42</td>\n",
       "    </tr>\n",
       "    <tr>\n",
       "      <th>1</th>\n",
       "      <td>Boston Breakers</td>\n",
       "      <td>2017</td>\n",
       "      <td>24</td>\n",
       "      <td>-11</td>\n",
       "      <td>24</td>\n",
       "      <td>35</td>\n",
       "      <td>23.70</td>\n",
       "      <td>12.37</td>\n",
       "      <td>72.53</td>\n",
       "      <td>61.42</td>\n",
       "      <td>48</td>\n",
       "      <td>42.78</td>\n",
       "      <td>73.49</td>\n",
       "    </tr>\n",
       "    <tr>\n",
       "      <th>2</th>\n",
       "      <td>Chicago Red Stars</td>\n",
       "      <td>2016</td>\n",
       "      <td>21</td>\n",
       "      <td>3</td>\n",
       "      <td>25</td>\n",
       "      <td>22</td>\n",
       "      <td>21.19</td>\n",
       "      <td>11.79</td>\n",
       "      <td>67.35</td>\n",
       "      <td>57.74</td>\n",
       "      <td>46</td>\n",
       "      <td>48.58</td>\n",
       "      <td>84.32</td>\n",
       "    </tr>\n",
       "    <tr>\n",
       "      <th>3</th>\n",
       "      <td>Chicago Red Stars</td>\n",
       "      <td>2017</td>\n",
       "      <td>25</td>\n",
       "      <td>2</td>\n",
       "      <td>33</td>\n",
       "      <td>31</td>\n",
       "      <td>21.08</td>\n",
       "      <td>13.10</td>\n",
       "      <td>69.23</td>\n",
       "      <td>61.52</td>\n",
       "      <td>47</td>\n",
       "      <td>49.60</td>\n",
       "      <td>71.29</td>\n",
       "    </tr>\n",
       "    <tr>\n",
       "      <th>4</th>\n",
       "      <td>Chicago Red Stars</td>\n",
       "      <td>2018</td>\n",
       "      <td>25</td>\n",
       "      <td>8</td>\n",
       "      <td>38</td>\n",
       "      <td>30</td>\n",
       "      <td>25.96</td>\n",
       "      <td>13.67</td>\n",
       "      <td>71.63</td>\n",
       "      <td>64.55</td>\n",
       "      <td>51</td>\n",
       "      <td>45.68</td>\n",
       "      <td>67.97</td>\n",
       "    </tr>\n",
       "  </tbody>\n",
       "</table>\n",
       "</div>"
      ],
      "text/plain": [
       "           team_name  season  games_played  goal_differential  goals  \\\n",
       "0    Boston Breakers    2016            20                -33     14   \n",
       "1    Boston Breakers    2017            24                -11     24   \n",
       "2  Chicago Red Stars    2016            21                  3     25   \n",
       "3  Chicago Red Stars    2017            25                  2     33   \n",
       "4  Chicago Red Stars    2018            25                  8     38   \n",
       "\n",
       "   goals_conceded  cross_accuracy  goal_conversion_pct  pass_pct  \\\n",
       "0              47           25.57                 8.97     67.38   \n",
       "1              35           23.70                12.37     72.53   \n",
       "2              22           21.19                11.79     67.35   \n",
       "3              31           21.08                13.10     69.23   \n",
       "4              30           25.96                13.67     71.63   \n",
       "\n",
       "   pass_pct_opposition_half  possession_pct  shot_accuracy  tackle_success_pct  \n",
       "0                     57.86              47          42.95               77.42  \n",
       "1                     61.42              48          42.78               73.49  \n",
       "2                     57.74              46          48.58               84.32  \n",
       "3                     61.52              47          49.60               71.29  \n",
       "4                     64.55              51          45.68               67.97  "
      ]
     },
     "execution_count": 3,
     "metadata": {},
     "output_type": "execute_result"
    }
   ],
   "source": [
    "df.head()"
   ]
  },
  {
   "cell_type": "markdown",
   "metadata": {},
   "source": [
    "Selecting the new features for the linear regression model:"
   ]
  },
  {
   "cell_type": "code",
   "execution_count": 4,
   "metadata": {},
   "outputs": [],
   "source": [
    "features = ['games_played', 'cross_accuracy',\n",
    "       'pass_pct', 'pass_pct_opposition_half','possession_pct', 'tackle_success_pct']"
   ]
  },
  {
   "cell_type": "code",
   "execution_count": 5,
   "metadata": {},
   "outputs": [],
   "source": [
    "y = df['goal_differential']"
   ]
  },
  {
   "cell_type": "code",
   "execution_count": 6,
   "metadata": {},
   "outputs": [
    {
     "data": {
      "text/html": [
       "<div>\n",
       "<style scoped>\n",
       "    .dataframe tbody tr th:only-of-type {\n",
       "        vertical-align: middle;\n",
       "    }\n",
       "\n",
       "    .dataframe tbody tr th {\n",
       "        vertical-align: top;\n",
       "    }\n",
       "\n",
       "    .dataframe thead th {\n",
       "        text-align: right;\n",
       "    }\n",
       "</style>\n",
       "<table border=\"1\" class=\"dataframe\">\n",
       "  <thead>\n",
       "    <tr style=\"text-align: right;\">\n",
       "      <th></th>\n",
       "      <th>games_played</th>\n",
       "      <th>cross_accuracy</th>\n",
       "      <th>pass_pct</th>\n",
       "      <th>pass_pct_opposition_half</th>\n",
       "      <th>possession_pct</th>\n",
       "      <th>tackle_success_pct</th>\n",
       "    </tr>\n",
       "  </thead>\n",
       "  <tbody>\n",
       "    <tr>\n",
       "      <th>0</th>\n",
       "      <td>20</td>\n",
       "      <td>25.57</td>\n",
       "      <td>67.38</td>\n",
       "      <td>57.86</td>\n",
       "      <td>47</td>\n",
       "      <td>77.42</td>\n",
       "    </tr>\n",
       "    <tr>\n",
       "      <th>1</th>\n",
       "      <td>24</td>\n",
       "      <td>23.70</td>\n",
       "      <td>72.53</td>\n",
       "      <td>61.42</td>\n",
       "      <td>48</td>\n",
       "      <td>73.49</td>\n",
       "    </tr>\n",
       "    <tr>\n",
       "      <th>2</th>\n",
       "      <td>21</td>\n",
       "      <td>21.19</td>\n",
       "      <td>67.35</td>\n",
       "      <td>57.74</td>\n",
       "      <td>46</td>\n",
       "      <td>84.32</td>\n",
       "    </tr>\n",
       "    <tr>\n",
       "      <th>3</th>\n",
       "      <td>25</td>\n",
       "      <td>21.08</td>\n",
       "      <td>69.23</td>\n",
       "      <td>61.52</td>\n",
       "      <td>47</td>\n",
       "      <td>71.29</td>\n",
       "    </tr>\n",
       "    <tr>\n",
       "      <th>4</th>\n",
       "      <td>25</td>\n",
       "      <td>25.96</td>\n",
       "      <td>71.63</td>\n",
       "      <td>64.55</td>\n",
       "      <td>51</td>\n",
       "      <td>67.97</td>\n",
       "    </tr>\n",
       "  </tbody>\n",
       "</table>\n",
       "</div>"
      ],
      "text/plain": [
       "   games_played  cross_accuracy  pass_pct  pass_pct_opposition_half  \\\n",
       "0            20           25.57     67.38                     57.86   \n",
       "1            24           23.70     72.53                     61.42   \n",
       "2            21           21.19     67.35                     57.74   \n",
       "3            25           21.08     69.23                     61.52   \n",
       "4            25           25.96     71.63                     64.55   \n",
       "\n",
       "   possession_pct  tackle_success_pct  \n",
       "0              47               77.42  \n",
       "1              48               73.49  \n",
       "2              46               84.32  \n",
       "3              47               71.29  \n",
       "4              51               67.97  "
      ]
     },
     "execution_count": 6,
     "metadata": {},
     "output_type": "execute_result"
    }
   ],
   "source": [
    "X = df[features]\n",
    "data = X.copy()\n",
    "data.head()"
   ]
  },
  {
   "cell_type": "markdown",
   "metadata": {},
   "source": [
    "Creating a train test split:"
   ]
  },
  {
   "cell_type": "code",
   "execution_count": 7,
   "metadata": {},
   "outputs": [],
   "source": [
    "X_train, X_test, y_train, y_test = train_test_split(X, y, test_size=0.2, random_state=42)\n"
   ]
  },
  {
   "cell_type": "markdown",
   "metadata": {},
   "source": [
    "Scaling the data:"
   ]
  },
  {
   "cell_type": "code",
   "execution_count": 8,
   "metadata": {},
   "outputs": [],
   "source": [
    "scaler = StandardScaler()\n",
    "X_train_scaled = scaler.fit_transform(X_train)\n",
    "X_test_scaled = scaler.transform(X_test)"
   ]
  },
  {
   "cell_type": "markdown",
   "metadata": {},
   "source": [
    "### Linear Regression"
   ]
  },
  {
   "cell_type": "markdown",
   "metadata": {},
   "source": [
    "Fitting the linear regression model:"
   ]
  },
  {
   "cell_type": "code",
   "execution_count": 9,
   "metadata": {},
   "outputs": [],
   "source": [
    "model = LinearRegression()\n",
    "\n",
    "model.fit(X_train_scaled, y_train)\n",
    "\n",
    "y_train_pred = model.predict(X_train_scaled)\n",
    "y_test_pred = model.predict(X_test_scaled)\n"
   ]
  },
  {
   "cell_type": "markdown",
   "metadata": {},
   "source": [
    "Obtaining MSE and R Squared values:"
   ]
  },
  {
   "cell_type": "code",
   "execution_count": 10,
   "metadata": {},
   "outputs": [
    {
     "name": "stdout",
     "output_type": "stream",
     "text": [
      "Training set - MSE: 121.88, R2: 0.36\n",
      "Test set - MSE: 192.14, R2: 0.46\n"
     ]
    }
   ],
   "source": [
    "mse_train = mean_squared_error(y_train, y_train_pred)\n",
    "r2_train = r2_score(y_train, y_train_pred)\n",
    "print(f\"Training set - MSE: {mse_train:.2f}, R2: {r2_train:.2f}\")\n",
    "\n",
    "\n",
    "mse_test = mean_squared_error(y_test, y_test_pred)\n",
    "r2_test = r2_score(y_test, y_test_pred)\n",
    "print(f\"Test set - MSE: {mse_test:.2f}, R2: {r2_test:.2f}\")\n"
   ]
  },
  {
   "cell_type": "markdown",
   "metadata": {},
   "source": [
    "Obtaining the coefficents for the x variables:"
   ]
  },
  {
   "cell_type": "code",
   "execution_count": 11,
   "metadata": {},
   "outputs": [
    {
     "data": {
      "text/plain": [
       "array([ 2.30852634,  2.82975781, -5.22457637,  2.46081466,  8.27211604,\n",
       "       -1.99293062])"
      ]
     },
     "execution_count": 11,
     "metadata": {},
     "output_type": "execute_result"
    }
   ],
   "source": [
    "model.coef_"
   ]
  },
  {
   "cell_type": "markdown",
   "metadata": {},
   "source": [
    "Obtaining the intercept value:"
   ]
  },
  {
   "cell_type": "code",
   "execution_count": 12,
   "metadata": {},
   "outputs": [
    {
     "data": {
      "text/plain": [
       "0.34042553191487984"
      ]
     },
     "execution_count": 12,
     "metadata": {},
     "output_type": "execute_result"
    }
   ],
   "source": [
    "model.intercept_"
   ]
  },
  {
   "cell_type": "markdown",
   "metadata": {},
   "source": [
    "### SVR"
   ]
  },
  {
   "cell_type": "markdown",
   "metadata": {},
   "source": [
    "Performing SVR with the reduced features:"
   ]
  },
  {
   "cell_type": "code",
   "execution_count": 13,
   "metadata": {},
   "outputs": [],
   "source": [
    "scaler = StandardScaler()\n",
    "X_train_scaled = pd.DataFrame(scaler.fit_transform(\n",
    "    X_train), columns=X_train.columns, index=X_train.index)\n",
    "X_test_scaled = pd.DataFrame(scaler.transform(\n",
    "    X_test), columns=X_train.columns, index=X_test.index)"
   ]
  },
  {
   "cell_type": "code",
   "execution_count": 14,
   "metadata": {},
   "outputs": [],
   "source": [
    "model = SVR(kernel = 'rbf', C=1, gamma=1)\n",
    "model.fit(X_train_scaled, y_train)\n",
    "\n",
    "\n",
    "y_test_pred_SVR = model.predict(X_test_scaled)\n",
    "y_train_pred_SVR = model.predict(X_train_scaled)"
   ]
  },
  {
   "cell_type": "code",
   "execution_count": 15,
   "metadata": {},
   "outputs": [
    {
     "name": "stdout",
     "output_type": "stream",
     "text": [
      "Training MSE SVR: 163.21296763665762\n",
      "Test MSE SVR: 349.7363627189634\n"
     ]
    }
   ],
   "source": [
    "mse_test_SVR = mean_squared_error(y_test, y_test_pred_SVR)\n",
    "mse_train_SVR = mean_squared_error(y_train, y_train_pred_SVR)\n",
    "\n",
    "print(f'Training MSE SVR: {mse_train_SVR}')\n",
    "print(f'Test MSE SVR: {mse_test_SVR}')"
   ]
  },
  {
   "cell_type": "code",
   "execution_count": 16,
   "metadata": {},
   "outputs": [
    {
     "name": "stdout",
     "output_type": "stream",
     "text": [
      "Training R Squared SVR: 0.13717298421136292\n",
      "Test R Squared SVR: 0.012257315952483028\n"
     ]
    }
   ],
   "source": [
    "r2_train_SVR = r2_score(y_train,y_train_pred_SVR)\n",
    "r2_test_SVR = r2_score(y_test,y_test_pred_SVR)\n",
    "\n",
    "print(f'Training R Squared SVR: {r2_train_SVR}')\n",
    "print(f'Test R Squared SVR: {r2_test_SVR}')"
   ]
  },
  {
   "cell_type": "markdown",
   "metadata": {},
   "source": [
    "Performing a grid search to find optimal gamma and C:"
   ]
  },
  {
   "cell_type": "code",
   "execution_count": 17,
   "metadata": {},
   "outputs": [
    {
     "name": "stdout",
     "output_type": "stream",
     "text": [
      "Fitting 5 folds for each of 35 candidates, totalling 175 fits\n",
      "Negative MSE: -108.45965244112892\n",
      "Best Parameters: {'C': 1000, 'gamma': 0.01}\n"
     ]
    }
   ],
   "source": [
    "folds = KFold(n_splits=5, shuffle=True, random_state=7)\n",
    "model = SVR()\n",
    "\n",
    "params = {'C': [0.1, 1, 10, 100, 1000, 10000, 20000],\n",
    "          'gamma': [1, 0.1, 0.01, 0.001, 0.0001]}\n",
    "\n",
    "c_opt = GridSearchCV(estimator=model, param_grid=params,\n",
    "                     scoring='neg_mean_squared_error', cv=folds, n_jobs=-1,\n",
    "                     verbose=1, return_train_score=True)\n",
    "\n",
    "c_opt.fit(X_train_scaled, y_train)\n",
    "c_results = pd.DataFrame(c_opt.cv_results_)\n",
    "\n",
    "print(f'Negative MSE: {c_opt.best_score_}')\n",
    "print(f'Best Parameters: {c_opt.best_params_}')"
   ]
  },
  {
   "cell_type": "markdown",
   "metadata": {},
   "source": [
    "Fitting SVR again but with optimal gamma and C:"
   ]
  },
  {
   "cell_type": "code",
   "execution_count": 18,
   "metadata": {},
   "outputs": [],
   "source": [
    "model = SVR(kernel = 'rbf', C=1000, gamma=0.01)\n",
    "model.fit(X_train_scaled, y_train)\n",
    "\n",
    "\n",
    "y_test_pred_SVR = model.predict(X_test_scaled)\n",
    "y_train_pred_SVR = model.predict(X_train_scaled)"
   ]
  },
  {
   "cell_type": "markdown",
   "metadata": {},
   "source": [
    "Obtaining the MSE values:"
   ]
  },
  {
   "cell_type": "code",
   "execution_count": 19,
   "metadata": {},
   "outputs": [
    {
     "name": "stdout",
     "output_type": "stream",
     "text": [
      "Training MSE SVR: 68.0004078469631\n",
      "Test MSE SVR: 438.1960227751694\n"
     ]
    }
   ],
   "source": [
    "mse_test_SVR = mean_squared_error(y_test, y_test_pred_SVR)\n",
    "mse_train_SVR = mean_squared_error(y_train, y_train_pred_SVR)\n",
    "\n",
    "print(f'Training MSE SVR: {mse_train_SVR}')\n",
    "print(f'Test MSE SVR: {mse_test_SVR}')"
   ]
  },
  {
   "cell_type": "markdown",
   "metadata": {},
   "source": [
    "Obtaining the R Squared values:"
   ]
  },
  {
   "cell_type": "code",
   "execution_count": 20,
   "metadata": {},
   "outputs": [
    {
     "name": "stdout",
     "output_type": "stream",
     "text": [
      "Training R Squared SVR: 0.6405151513106393\n",
      "Test R Squared SVR: -0.23757481867190489\n"
     ]
    }
   ],
   "source": [
    "r2_train_SVR = r2_score(y_train,y_train_pred_SVR)\n",
    "r2_test_SVR = r2_score(y_test,y_test_pred_SVR)\n",
    "\n",
    "print(f'Training R Squared SVR: {r2_train_SVR}')\n",
    "print(f'Test R Squared SVR: {r2_test_SVR}')"
   ]
  }
 ],
 "metadata": {
  "kernelspec": {
   "display_name": "Python 3",
   "language": "python",
   "name": "python3"
  },
  "language_info": {
   "codemirror_mode": {
    "name": "ipython",
    "version": 3
   },
   "file_extension": ".py",
   "mimetype": "text/x-python",
   "name": "python",
   "nbconvert_exporter": "python",
   "pygments_lexer": "ipython3",
   "version": "3.12.3"
  }
 },
 "nbformat": 4,
 "nbformat_minor": 2
}
